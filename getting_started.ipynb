{
 "cells": [
  {
   "cell_type": "markdown",
   "id": "d5682e81-741c-4fbc-bc1f-974a3b93c831",
   "metadata": {},
   "source": [
    "# Getting Started With The Explorer API Client"
   ]
  },
  {
   "cell_type": "markdown",
   "id": "8049a67b-9477-430b-a9ec-0fea113d7b9e",
   "metadata": {},
   "source": [
    "## Authentication\n",
    "\n",
    "The explorer API validates every request it receives by generating a cryptographic digest using the filters and a secret key associated with your account in Altmetric Explorer and comparing it to the value of the `digest` query parameter included with the request.  If the values are the same then a data response will be returned.  If not, then the API will respond with HTTP status `400 Bad Request`.\n",
    "\n",
    "This means you need to calculate the digest using the same method as the API server does when you create a request.  The process is quite involved (see the [documentation](https://www.altmetric.com/explorer/documentation/api#authentication) for more details) but the API client handles this part for you as long as you supply your api key and api secret when you create a new `Client` object.\n",
    "\n",
    "You can get you api key and secret at https://www.altmetric.com/explorer/settings.\n",
    "\n",
    "You can use whatever you like to distribute secrets but, for the purposes of demonstrating how the API works, we are using [python-dotenv](https://pypi.org/project/python-dotenv/) and you must set it up with your own key and secret for the examples to work.\n",
    "\n",
    "Simply create a file called `.env` in the same folder as this notebook and add the following lines using your own keys from https://www.altmetric.com/explorer/settings.\n",
    "\n",
    "```\n",
    "API_KEY=xxxxxxxx\n",
    "API_SECRET=yyyyyyy\n",
    "```\n",
    "\n",
    "Go ahead and do it now and then run the cell below to load your keys into environment variables this notebook can access."
   ]
  },
  {
   "cell_type": "code",
   "execution_count": 1,
   "id": "3fc6d8fe-1a7a-4db8-a77c-4b8c00d5b3f7",
   "metadata": {},
   "outputs": [],
   "source": [
    "%load_ext dotenv\n",
    "%dotenv"
   ]
  },
  {
   "cell_type": "markdown",
   "id": "1ae22071-61e9-49a0-bd60-7b96ddbb89b6",
   "metadata": {},
   "source": [
    "Now that `dotenv` has loaded your keys into the environment, you can assign them to Python variables."
   ]
  },
  {
   "cell_type": "code",
   "execution_count": 2,
   "id": "49006204-4402-4c3b-8461-abecaa94828c",
   "metadata": {},
   "outputs": [],
   "source": [
    "import os\n",
    "\n",
    "API_KEY = os.getenv('API_KEY')\n",
    "API_SECRET = os.getenv('API_SECRET')"
   ]
  },
  {
   "cell_type": "markdown",
   "id": "4d7fbf93-0b53-4f15-9299-4ba04eed85e7",
   "metadata": {},
   "source": [
    "##  Using the API Client"
   ]
  },
  {
   "cell_type": "markdown",
   "id": "573544dc-ecd7-4260-8892-412865eaa05f",
   "metadata": {},
   "source": [
    "First, import the `api` package and create a `Client` object using the API URL and your key and secret."
   ]
  },
  {
   "cell_type": "code",
   "execution_count": 3,
   "id": "8b470b85-944b-472e-a651-6184d4a1d9e0",
   "metadata": {},
   "outputs": [],
   "source": [
    "from altmetric.explorer.api import Client\n",
    "\n",
    "api_client = Client('https://www.altmetric.com/explorer/api', API_KEY, API_SECRET)"
   ]
  },
  {
   "cell_type": "markdown",
   "id": "0fa72e25-ca9a-4b6b-b003-7a1eb24dfd86",
   "metadata": {},
   "source": [
    "### Sending a request"
   ]
  },
  {
   "cell_type": "markdown",
   "id": "433438eb-24c7-4245-b26e-0b40026ed729",
   "metadata": {},
   "source": [
    "Now we can construct a query.  Here, we are using the [mention_sources](https://www.altmetric.com/explorer/documentation/api#mention-sources) as an example but they all work in the same way.\n",
    "\n",
    "The simplest request you can send to the api would be to get all the mention sources for all research outputs.\n",
    "\n",
    "```python\n",
    "api_client.get_mention_sources()\n",
    "```\n",
    "\n",
    "This would return all the mention sources with no filters applied but that's not a very useful example becuase you will probably be more interested querying Explorer for a subset of the data it holds.  You do this by passing your query, and a few control variables, when you construct the request.  For instance, this (runnable) example returns all the mention sources of type `policy` or `blog` that have been active in the past 3 days. The results are ordered by `profile-type` and behind the scenes the data is fetched from the api server in batches of 100."
   ]
  },
  {
   "cell_type": "code",
   "execution_count": 4,
   "id": "0418a8b7-0d63-4839-b009-b29b00933c4b",
   "metadata": {},
   "outputs": [],
   "source": [
    "response = api_client.get_mention_sources(\n",
    "    page_size=100,\n",
    "    order='profile-type',\n",
    "    mention_sources_types=['type:policy', 'type:blog'],\n",
    "    timeframe='3d')"
   ]
  },
  {
   "cell_type": "markdown",
   "id": "be3e1e22-8bdd-4d6e-9a89-24a5b361e19d",
   "metadata": {},
   "source": [
    "Before we move on, please be aware of the following rules for constructing queries:\n",
    "\n",
    "* Parameters are passed using Python's [named parameter syntax](https://treyhunner.com/2018/04/keyword-arguments-in-python/)\n",
    "* There are 3 optional parameters that control how the request is handled:\n",
    "  - `order`: specify a field to order the results by.\n",
    "  - `page_size`: behind the scenes, the [Explorer API returns data in a sequence of pages](https://www.altmetric.com/explorer/documentation/api#pagination) so that you don't need to pull down every result every time you run a query.  The API handles this for you but you can control the size of the pages by setting the `page_size` parameter when you submit a query.  It defaulst to 25.\n",
    "  - `page_number`: set this value if you want to start fetching data at a specific page.  The default is the first page.\n",
    "* All other parameters will be treated as filters to be applied to the data so you can find the results you are interested in\n",
    "  - Parameters with a single value will be submitted as a single query parameter\n",
    "  - Parameters with a list (or tuple, or set) will be submitted as separate array parameters in the request.\n",
    "  - For example, in the request above, the filters will be `filter[mention_sources_types][]=type:policy&filter[mention_sources_types][]=type:blog&filter[timeframe]=3d`\n",
    "* Technically, you could also supply your own `key` and `digest` as keyword arguments but this behaviour is not supported by the client and the results of doing so are undefined."
   ]
  },
  {
   "cell_type": "markdown",
   "id": "70497953-7945-4467-bafb-df4562521085",
   "metadata": {},
   "source": [
    "### Reading the response"
   ]
  },
  {
   "cell_type": "markdown",
   "id": "e65626fd-bd7c-47be-9329-41d64f3f8dc2",
   "metadata": {},
   "source": [
    "The client takes the raw response from the API and presents it to you as a `Response` object that has accessor methods for common operations\n",
    "\n",
    "You can get the HTTP status code:"
   ]
  },
  {
   "cell_type": "code",
   "execution_count": 5,
   "id": "22e1ca8a-466f-4744-be58-767b5f85fd97",
   "metadata": {},
   "outputs": [
    {
     "name": "stdout",
     "output_type": "stream",
     "text": [
      "INFO : the API responded with status: 200\n"
     ]
    }
   ],
   "source": [
    "print('INFO : the API responded with status:', response.status_code)\n"
   ]
  },
  {
   "cell_type": "markdown",
   "id": "38ad3de6-19f6-4aaf-8e1a-7ec6da4b441d",
   "metadata": {},
   "source": [
    "The data from the `meta` tag in the response:"
   ]
  },
  {
   "cell_type": "code",
   "execution_count": 6,
   "id": "1c8a3ead-02b7-4195-93a5-81aa54bc32a3",
   "metadata": {},
   "outputs": [
    {
     "name": "stdout",
     "output_type": "stream",
     "text": [
      "INFO : got metadata:\n",
      "  status = 'ok'\n",
      "  description = 'All research outputs sorted by Altmetric Attention Score mentioned in the past three days'\n",
      "  total-results = 83\n",
      "  total-pages = 1\n",
      "  total-mentions = 431\n"
     ]
    }
   ],
   "source": [
    "meta = response.meta\n",
    "print(f'INFO : got metadata:')\n",
    "for key, value in meta.items():\n",
    "    print(f'  {key} = {repr(value)}')"
   ]
  },
  {
   "cell_type": "markdown",
   "id": "319cad14-c2c1-43ce-a2d1-7af69df97c59",
   "metadata": {},
   "source": [
    "And, of course, the results of the query.\n",
    "\n",
    "In this case, note that `response.data` returns a Python [generator](https://realpython.com/introduction-to-python-generators/) so that you can pull the results from the api lazily instead of needing to download everything in one long-running query.  \n",
    "\n",
    "A handy trick here is to use `islice` from Python's `itertools` library to pull down the first few rows so we can have a look at what we get."
   ]
  },
  {
   "cell_type": "code",
   "execution_count": 7,
   "id": "33d4cd07-0d8d-490f-8bd6-57411603f010",
   "metadata": {},
   "outputs": [
    {
     "name": "stdout",
     "output_type": "stream",
     "text": [
      "{'id': 'blog:62498', 'type': 'profile', 'attributes': {'profile-type': 'blog', 'name': 'Balkinization', 'image': None}, 'meta': {'mention-count': 90}}\n",
      "{'id': 'blog:79222', 'type': 'profile', 'attributes': {'profile-type': 'blog', 'name': 'information for practice - Journal Article Abstracts', 'image': None}, 'meta': {'mention-count': 58}}\n",
      "{'id': 'blog:54632', 'type': 'profile', 'attributes': {'profile-type': 'blog', 'name': 'AWOL - The Ancient World Online', 'image': None}, 'meta': {'mention-count': 31}}\n",
      "{'id': 'blog:83410', 'type': 'profile', 'attributes': {'profile-type': 'blog', 'name': 'news-medical.net', 'image': None}, 'meta': {'mention-count': 19}}\n",
      "{'id': 'blog:76592', 'type': 'profile', 'attributes': {'profile-type': 'blog', 'name': 'Science Alert', 'image': None}, 'meta': {'mention-count': 18}}\n",
      "{'id': 'blog:80146', 'type': 'profile', 'attributes': {'profile-type': 'blog', 'name': 'Whats New', 'image': None}, 'meta': {'mention-count': 11}}\n",
      "{'id': 'blog:60593', 'type': 'profile', 'attributes': {'profile-type': 'blog', 'name': 'Feed: All Latest', 'image': None}, 'meta': {'mention-count': 11}}\n",
      "{'id': 'blog:81012', 'type': 'profile', 'attributes': {'profile-type': 'blog', 'name': 'Psychology Today', 'image': None}, 'meta': {'mention-count': 10}}\n",
      "{'id': 'blog:60438', 'type': 'profile', 'attributes': {'profile-type': 'blog', 'name': 'Science Springs', 'image': None}, 'meta': {'mention-count': 10}}\n",
      "{'id': 'blog:82602', 'type': 'profile', 'attributes': {'profile-type': 'blog', 'name': 'Health Medicine Network', 'image': None}, 'meta': {'mention-count': 9}}\n"
     ]
    }
   ],
   "source": [
    "from itertools import islice\n",
    "\n",
    "data = response.data\n",
    "for item in islice(data, 10):\n",
    "    print(item)"
   ]
  },
  {
   "cell_type": "markdown",
   "id": "4047a4c0-f38f-4f9a-8297-6e9ab0e9c021",
   "metadata": {},
   "source": [
    "(If you really want all the results in one go, you should run `data = list(response.data)`)"
   ]
  },
  {
   "cell_type": "markdown",
   "id": "e24f7a67-1295-4ef2-9f08-dc7d607eb7de",
   "metadata": {},
   "source": [
    "Finally, you also have access to the raw response if you need to dig any deeper.  Behind the scenes the client is using the [requests](https://pypi.org/project/requests/) HTTP client and the raw response held is the result of running `requests.get(api_url)`.  \n",
    "\n",
    "For example, you might use this to see the url that was submitted."
   ]
  },
  {
   "cell_type": "code",
   "execution_count": 8,
   "id": "74c88e06-b7e4-41a0-9bcf-09474c7630b3",
   "metadata": {},
   "outputs": [
    {
     "name": "stdout",
     "output_type": "stream",
     "text": [
      "https://www.altmetric.com/explorer/api/research_outputs/mention_sources?page[size]=100&filter[order]=profile-type&key=b5f9faabd368491692d4209087ffacae&digest=788862429f1f577faacfb54c9bc9fa33075a4d98&filter[mention_sources_types][]=type:policy&filter[mention_sources_types][]=type:blog&filter[timeframe]=3d\n"
     ]
    }
   ],
   "source": [
    "from urllib.parse import unquote\n",
    "\n",
    "print(unquote(response.raw_response.url))"
   ]
  },
  {
   "cell_type": "code",
   "execution_count": null,
   "id": "ec56000f-c405-47a3-ad50-ab2668134c16",
   "metadata": {},
   "outputs": [],
   "source": []
  }
 ],
 "metadata": {
  "kernelspec": {
   "display_name": "Python 3 (ipykernel)",
   "language": "python",
   "name": "python3"
  },
  "language_info": {
   "codemirror_mode": {
    "name": "ipython",
    "version": 3
   },
   "file_extension": ".py",
   "mimetype": "text/x-python",
   "name": "python",
   "nbconvert_exporter": "python",
   "pygments_lexer": "ipython3",
   "version": "3.12.4"
  }
 },
 "nbformat": 4,
 "nbformat_minor": 5
}
