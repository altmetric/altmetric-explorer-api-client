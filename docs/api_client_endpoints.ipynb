{
 "cells": [
  {
   "cell_type": "markdown",
   "metadata": {},
   "source": [
    "# Explorer API Client Endpoints"
   ]
  },
  {
   "cell_type": "code",
   "execution_count": 5,
   "metadata": {},
   "outputs": [
    {
     "name": "stdout",
     "output_type": "stream",
     "text": [
      "The dotenv extension is already loaded. To reload it, use:\n",
      "  %reload_ext dotenv\n"
     ]
    }
   ],
   "source": [
    "%load_ext dotenv\n",
    "%dotenv\n",
    "\n",
    "import os\n",
    "\n",
    "API_KEY = os.getenv('API_KEY')\n",
    "API_SECRET = os.getenv('API_SECRET')\n",
    "API_URL = 'https://www.altmetric.com/explorer/api'"
   ]
  },
  {
   "cell_type": "markdown",
   "metadata": {},
   "source": [
    "## Attention Summary\n"
   ]
  },
  {
   "cell_type": "code",
   "execution_count": 6,
   "metadata": {},
   "outputs": [
    {
     "name": "stdout",
     "output_type": "stream",
     "text": [
      "status: ok\n",
      "description: All research outputs sorted by Altmetric Attention Score\n",
      "total-results: 48099976\n",
      "total-pages: 1\n"
     ]
    }
   ],
   "source": [
    "from altmetric.explorer import api\n",
    "\n",
    "api_client = api.Client(API_URL, API_KEY, API_SECRET)\n",
    "\n",
    "response = api_client.get_attention_summary()\n",
    "\n",
    "for k,v in response.meta.items():\n",
    "    print(f'{k}: {v}')"
   ]
  },
  {
   "cell_type": "markdown",
   "metadata": {},
   "source": [
    "## Demographics"
   ]
  },
  {
   "cell_type": "code",
   "execution_count": 11,
   "metadata": {},
   "outputs": [
    {
     "name": "stdout",
     "output_type": "stream",
     "text": [
      "status: ok\n",
      "description: All research outputs sorted by Altmetric Attention Score\n",
      "total-results: 48099976\n",
      "total-pages: 1\n"
     ]
    }
   ],
   "source": [
    "from altmetric.explorer import api\n",
    "\n",
    "api_client = api.Client(API_URL, API_KEY, API_SECRET)\n",
    "\n",
    "response = api_client.get_demographics()\n",
    "\n",
    "for k,v in response.meta.items():\n",
    "    print(f'{k}: {v}')"
   ]
  },
  {
   "cell_type": "markdown",
   "metadata": {},
   "source": [
    "## Journals"
   ]
  },
  {
   "cell_type": "code",
   "execution_count": 14,
   "metadata": {},
   "outputs": [
    {
     "name": "stdout",
     "output_type": "stream",
     "text": [
      "status: ok\n",
      "description: All research outputs sorted by Altmetric Attention Score\n",
      "total-results: 71728\n",
      "total-pages: 1\n"
     ]
    }
   ],
   "source": [
    "from altmetric.explorer import api\n",
    "\n",
    "api_client = api.Client(API_URL, API_KEY, API_SECRET)\n",
    "\n",
    "response = api_client.get_journals()\n",
    "\n",
    "for k,v in response.meta.items():\n",
    "    print(f'{k}: {v}')"
   ]
  },
  {
   "cell_type": "markdown",
   "metadata": {},
   "source": [
    "## Mentions\n"
   ]
  },
  {
   "cell_type": "code",
   "execution_count": 12,
   "metadata": {},
   "outputs": [
    {
     "name": "stdout",
     "output_type": "stream",
     "text": [
      "status: ok\n",
      "description: All research outputs sorted by Altmetric Attention Score\n",
      "total-results: 242353082\n",
      "total-pages: 9694124\n"
     ]
    }
   ],
   "source": [
    "from altmetric.explorer import api\n",
    "\n",
    "api_client = api.Client(API_URL, API_KEY, API_SECRET)\n",
    "\n",
    "response = api_client.get_mentions()\n",
    "\n",
    "for k,v in response.meta.items():\n",
    "    print(f'{k}: {v}')"
   ]
  },
  {
   "cell_type": "markdown",
   "metadata": {},
   "source": [
    "## Mention Sources\n"
   ]
  },
  {
   "cell_type": "code",
   "execution_count": 13,
   "metadata": {},
   "outputs": [
    {
     "name": "stdout",
     "output_type": "stream",
     "text": [
      "status: ok\n",
      "description: All research outputs sorted by Altmetric Attention Score\n",
      "total-results: 12877017\n",
      "total-pages: 515081\n",
      "total-mentions: 245180345\n"
     ]
    }
   ],
   "source": [
    "from altmetric.explorer import api\n",
    "\n",
    "api_client = api.Client(API_URL, API_KEY, API_SECRET)\n",
    "\n",
    "response = api_client.get_mention_sources()\n",
    "\n",
    "for k,v in response.meta.items():\n",
    "    print(f'{k}: {v}')"
   ]
  }
 ],
 "metadata": {
  "kernelspec": {
   "display_name": "Python 3 (ipykernel)",
   "language": "python",
   "name": "python3"
  },
  "language_info": {
   "codemirror_mode": {
    "name": "ipython",
    "version": 3
   },
   "file_extension": ".py",
   "mimetype": "text/x-python",
   "name": "python",
   "nbconvert_exporter": "python",
   "pygments_lexer": "ipython3",
   "version": "3.12.4"
  }
 },
 "nbformat": 4,
 "nbformat_minor": 4
}
