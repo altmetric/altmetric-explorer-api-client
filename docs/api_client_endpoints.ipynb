{
 "cells": [
  {
   "cell_type": "markdown",
   "metadata": {},
   "source": [
    "# Explorer API Client Endpoints"
   ]
  },
  {
   "cell_type": "markdown",
   "metadata": {},
   "source": [
    "## Setup"
   ]
  },
  {
   "cell_type": "markdown",
   "metadata": {},
   "source": [
    "Get your API key and secret from the Colab secrets.  \n",
    "\n",
    "Your API key and secret are available in your [Altmetric Explorer account](https://www.altmetric.com/explorer/settings).  Click the key icon on the left hand side of the Colab window and add them to your Colab account before running this step."
   ]
  },
  {
   "cell_type": "code",
   "execution_count": null,
   "metadata": {},
   "outputs": [],
   "source": [
    "from google.colab import userdata\n",
    "\n",
    "API_KEY = userdata.get('API_KEY')\n",
    "API_SECRET = userdata.get('API_SECRET')\n",
    "API_URL = 'https://www.altmetric.com/explorer/api'"
   ]
  },
  {
   "cell_type": "markdown",
   "metadata": {},
   "source": [
    "Install the API client from GitHub."
   ]
  },
  {
   "cell_type": "code",
   "execution_count": null,
   "metadata": {},
   "outputs": [],
   "source": [
    "!pip install https://github.com/altmetric/altmetric-explorer-api-client/tarball/main"
   ]
  },
  {
   "cell_type": "markdown",
   "metadata": {},
   "source": [
    "## Attention Summary\n"
   ]
  },
  {
   "cell_type": "code",
   "execution_count": null,
   "metadata": {},
   "outputs": [],
   "source": [
    "from altmetric.explorer import api\n",
    "\n",
    "api_client = api.Client(API_URL, API_KEY, API_SECRET)\n",
    "\n",
    "response = api_client.get_attention_summary()\n",
    "\n",
    "for k,v in response.meta.items():\n",
    "    print(f'{k}: {v}')"
   ]
  },
  {
   "cell_type": "markdown",
   "metadata": {},
   "source": [
    "## Demographics"
   ]
  },
  {
   "cell_type": "code",
   "execution_count": null,
   "metadata": {},
   "outputs": [],
   "source": [
    "from altmetric.explorer import api\n",
    "\n",
    "api_client = api.Client(API_URL, API_KEY, API_SECRET)\n",
    "\n",
    "response = api_client.get_demographics()\n",
    "\n",
    "for k,v in response.meta.items():\n",
    "    print(f'{k}: {v}')"
   ]
  },
  {
   "cell_type": "markdown",
   "metadata": {},
   "source": [
    "## Journals"
   ]
  },
  {
   "cell_type": "code",
   "execution_count": null,
   "metadata": {},
   "outputs": [],
   "source": [
    "from altmetric.explorer import api\n",
    "\n",
    "api_client = api.Client(API_URL, API_KEY, API_SECRET)\n",
    "\n",
    "response = api_client.get_journals()\n",
    "\n",
    "for k,v in response.meta.items():\n",
    "    print(f'{k}: {v}')"
   ]
  },
  {
   "cell_type": "markdown",
   "metadata": {},
   "source": [
    "## Mentions\n"
   ]
  },
  {
   "cell_type": "code",
   "execution_count": null,
   "metadata": {},
   "outputs": [],
   "source": [
    "from altmetric.explorer import api\n",
    "\n",
    "api_client = api.Client(API_URL, API_KEY, API_SECRET)\n",
    "\n",
    "response = api_client.get_mentions()\n",
    "\n",
    "for k,v in response.meta.items():\n",
    "    print(f'{k}: {v}')"
   ]
  },
  {
   "cell_type": "markdown",
   "metadata": {},
   "source": [
    "## Mention Sources\n"
   ]
  },
  {
   "cell_type": "code",
   "execution_count": null,
   "metadata": {},
   "outputs": [],
   "source": [
    "from altmetric.explorer import api\n",
    "\n",
    "api_client = api.Client(API_URL, API_KEY, API_SECRET)\n",
    "\n",
    "response = api_client.get_mention_sources()\n",
    "\n",
    "for k,v in response.meta.items():\n",
    "    print(f'{k}: {v}')"
   ]
  },
  {
   "cell_type": "markdown",
   "metadata": {},
   "source": [
    "## Research Outputs"
   ]
  },
  {
   "cell_type": "code",
   "execution_count": null,
   "metadata": {},
   "outputs": [],
   "source": [
    "from altmetric.explorer import api\n",
    "\n",
    "api_client = api.Client(API_URL, API_KEY, API_SECRET)\n",
    "\n",
    "response = api_client.get_research_outputs()\n",
    "\n",
    "for k,v in response.meta.items():\n",
    "    print(f'{k}: {v}')\n"
   ]
  }
 ],
 "metadata": {
  "kernelspec": {
   "display_name": "Python 3 (ipykernel)",
   "language": "python",
   "name": "python3"
  },
  "language_info": {
   "codemirror_mode": {
    "name": "ipython",
    "version": 3
   },
   "file_extension": ".py",
   "mimetype": "text/x-python",
   "name": "python",
   "nbconvert_exporter": "python",
   "pygments_lexer": "ipython3",
   "version": "3.12.4"
  }
 },
 "nbformat": 4,
 "nbformat_minor": 4
}
